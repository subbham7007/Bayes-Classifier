{
  "cells": [
    {
      "cell_type": "markdown",
      "id": "7e5d2052",
      "metadata": {
        "id": "7e5d2052"
      },
      "source": [
        "# Naive Bayes Classifies/ Probabilistic  Classifier"
      ]
    },
    {
      "cell_type": "markdown",
      "id": "f9f3eb45",
      "metadata": {
        "id": "f9f3eb45"
      },
      "source": [
        "## Upload the dataset"
      ]
    },
    {
      "cell_type": "code",
      "execution_count": null,
      "id": "681ab73f",
      "metadata": {
        "id": "681ab73f"
      },
      "outputs": [],
      "source": [
        "import pandas as pd\n",
        "import numpy as np\n",
        "import math"
      ]
    },
    {
      "cell_type": "code",
      "execution_count": null,
      "id": "47c8cb13",
      "metadata": {
        "id": "47c8cb13"
      },
      "outputs": [],
      "source": [
        "# Creating the DataFrame\n",
        "myarray = np.array([['Red','SUV',13.2,'Imported','Yes'],['Red','XUV',12.1,'Domestic','Yes'],\n",
        "                  ['Blue','SUV',14.8,'Domestic','No'],['Blue','SUV',14.5,'Imported','No'],\n",
        "                  ['Yellow','XUV',12.2,'Domestic','Yes'],['Yellow','SUV',13.1,'Imported','Yes'],\n",
        "                  ['Red','SUV',11.8,'Imported','No']])"
      ]
    },
    {
      "cell_type": "code",
      "execution_count": null,
      "id": "0e761a91",
      "metadata": {
        "colab": {
          "base_uri": "https://localhost:8080/",
          "height": 269
        },
        "id": "0e761a91",
        "outputId": "25a704fb-d8d4-47bd-884d-afbdff567f24"
      },
      "outputs": [
        {
          "output_type": "execute_result",
          "data": {
            "text/plain": [
              "    Color Type Mileage    Origin Stolen\n",
              "0     Red  SUV    13.2  Imported    Yes\n",
              "1     Red  XUV    12.1  Domestic    Yes\n",
              "2    Blue  SUV    14.8  Domestic     No\n",
              "3    Blue  SUV    14.5  Imported     No\n",
              "4  Yellow  XUV    12.2  Domestic    Yes\n",
              "5  Yellow  SUV    13.1  Imported    Yes\n",
              "6     Red  SUV    11.8  Imported     No"
            ],
            "text/html": [
              "\n",
              "  <div id=\"df-bc1c5b44-f94e-4aae-88bd-7bd86ea189c7\" class=\"colab-df-container\">\n",
              "    <div>\n",
              "<style scoped>\n",
              "    .dataframe tbody tr th:only-of-type {\n",
              "        vertical-align: middle;\n",
              "    }\n",
              "\n",
              "    .dataframe tbody tr th {\n",
              "        vertical-align: top;\n",
              "    }\n",
              "\n",
              "    .dataframe thead th {\n",
              "        text-align: right;\n",
              "    }\n",
              "</style>\n",
              "<table border=\"1\" class=\"dataframe\">\n",
              "  <thead>\n",
              "    <tr style=\"text-align: right;\">\n",
              "      <th></th>\n",
              "      <th>Color</th>\n",
              "      <th>Type</th>\n",
              "      <th>Mileage</th>\n",
              "      <th>Origin</th>\n",
              "      <th>Stolen</th>\n",
              "    </tr>\n",
              "  </thead>\n",
              "  <tbody>\n",
              "    <tr>\n",
              "      <th>0</th>\n",
              "      <td>Red</td>\n",
              "      <td>SUV</td>\n",
              "      <td>13.2</td>\n",
              "      <td>Imported</td>\n",
              "      <td>Yes</td>\n",
              "    </tr>\n",
              "    <tr>\n",
              "      <th>1</th>\n",
              "      <td>Red</td>\n",
              "      <td>XUV</td>\n",
              "      <td>12.1</td>\n",
              "      <td>Domestic</td>\n",
              "      <td>Yes</td>\n",
              "    </tr>\n",
              "    <tr>\n",
              "      <th>2</th>\n",
              "      <td>Blue</td>\n",
              "      <td>SUV</td>\n",
              "      <td>14.8</td>\n",
              "      <td>Domestic</td>\n",
              "      <td>No</td>\n",
              "    </tr>\n",
              "    <tr>\n",
              "      <th>3</th>\n",
              "      <td>Blue</td>\n",
              "      <td>SUV</td>\n",
              "      <td>14.5</td>\n",
              "      <td>Imported</td>\n",
              "      <td>No</td>\n",
              "    </tr>\n",
              "    <tr>\n",
              "      <th>4</th>\n",
              "      <td>Yellow</td>\n",
              "      <td>XUV</td>\n",
              "      <td>12.2</td>\n",
              "      <td>Domestic</td>\n",
              "      <td>Yes</td>\n",
              "    </tr>\n",
              "    <tr>\n",
              "      <th>5</th>\n",
              "      <td>Yellow</td>\n",
              "      <td>SUV</td>\n",
              "      <td>13.1</td>\n",
              "      <td>Imported</td>\n",
              "      <td>Yes</td>\n",
              "    </tr>\n",
              "    <tr>\n",
              "      <th>6</th>\n",
              "      <td>Red</td>\n",
              "      <td>SUV</td>\n",
              "      <td>11.8</td>\n",
              "      <td>Imported</td>\n",
              "      <td>No</td>\n",
              "    </tr>\n",
              "  </tbody>\n",
              "</table>\n",
              "</div>\n",
              "    <div class=\"colab-df-buttons\">\n",
              "\n",
              "  <div class=\"colab-df-container\">\n",
              "    <button class=\"colab-df-convert\" onclick=\"convertToInteractive('df-bc1c5b44-f94e-4aae-88bd-7bd86ea189c7')\"\n",
              "            title=\"Convert this dataframe to an interactive table.\"\n",
              "            style=\"display:none;\">\n",
              "\n",
              "  <svg xmlns=\"http://www.w3.org/2000/svg\" height=\"24px\" viewBox=\"0 -960 960 960\">\n",
              "    <path d=\"M120-120v-720h720v720H120Zm60-500h600v-160H180v160Zm220 220h160v-160H400v160Zm0 220h160v-160H400v160ZM180-400h160v-160H180v160Zm440 0h160v-160H620v160ZM180-180h160v-160H180v160Zm440 0h160v-160H620v160Z\"/>\n",
              "  </svg>\n",
              "    </button>\n",
              "\n",
              "  <style>\n",
              "    .colab-df-container {\n",
              "      display:flex;\n",
              "      gap: 12px;\n",
              "    }\n",
              "\n",
              "    .colab-df-convert {\n",
              "      background-color: #E8F0FE;\n",
              "      border: none;\n",
              "      border-radius: 50%;\n",
              "      cursor: pointer;\n",
              "      display: none;\n",
              "      fill: #1967D2;\n",
              "      height: 32px;\n",
              "      padding: 0 0 0 0;\n",
              "      width: 32px;\n",
              "    }\n",
              "\n",
              "    .colab-df-convert:hover {\n",
              "      background-color: #E2EBFA;\n",
              "      box-shadow: 0px 1px 2px rgba(60, 64, 67, 0.3), 0px 1px 3px 1px rgba(60, 64, 67, 0.15);\n",
              "      fill: #174EA6;\n",
              "    }\n",
              "\n",
              "    .colab-df-buttons div {\n",
              "      margin-bottom: 4px;\n",
              "    }\n",
              "\n",
              "    [theme=dark] .colab-df-convert {\n",
              "      background-color: #3B4455;\n",
              "      fill: #D2E3FC;\n",
              "    }\n",
              "\n",
              "    [theme=dark] .colab-df-convert:hover {\n",
              "      background-color: #434B5C;\n",
              "      box-shadow: 0px 1px 3px 1px rgba(0, 0, 0, 0.15);\n",
              "      filter: drop-shadow(0px 1px 2px rgba(0, 0, 0, 0.3));\n",
              "      fill: #FFFFFF;\n",
              "    }\n",
              "  </style>\n",
              "\n",
              "    <script>\n",
              "      const buttonEl =\n",
              "        document.querySelector('#df-bc1c5b44-f94e-4aae-88bd-7bd86ea189c7 button.colab-df-convert');\n",
              "      buttonEl.style.display =\n",
              "        google.colab.kernel.accessAllowed ? 'block' : 'none';\n",
              "\n",
              "      async function convertToInteractive(key) {\n",
              "        const element = document.querySelector('#df-bc1c5b44-f94e-4aae-88bd-7bd86ea189c7');\n",
              "        const dataTable =\n",
              "          await google.colab.kernel.invokeFunction('convertToInteractive',\n",
              "                                                    [key], {});\n",
              "        if (!dataTable) return;\n",
              "\n",
              "        const docLinkHtml = 'Like what you see? Visit the ' +\n",
              "          '<a target=\"_blank\" href=https://colab.research.google.com/notebooks/data_table.ipynb>data table notebook</a>'\n",
              "          + ' to learn more about interactive tables.';\n",
              "        element.innerHTML = '';\n",
              "        dataTable['output_type'] = 'display_data';\n",
              "        await google.colab.output.renderOutput(dataTable, element);\n",
              "        const docLink = document.createElement('div');\n",
              "        docLink.innerHTML = docLinkHtml;\n",
              "        element.appendChild(docLink);\n",
              "      }\n",
              "    </script>\n",
              "  </div>\n",
              "\n",
              "\n",
              "<div id=\"df-a5239b97-4b20-4b19-adbd-dbf5e75c691e\">\n",
              "  <button class=\"colab-df-quickchart\" onclick=\"quickchart('df-a5239b97-4b20-4b19-adbd-dbf5e75c691e')\"\n",
              "            title=\"Suggest charts.\"\n",
              "            style=\"display:none;\">\n",
              "\n",
              "<svg xmlns=\"http://www.w3.org/2000/svg\" height=\"24px\"viewBox=\"0 0 24 24\"\n",
              "     width=\"24px\">\n",
              "    <g>\n",
              "        <path d=\"M19 3H5c-1.1 0-2 .9-2 2v14c0 1.1.9 2 2 2h14c1.1 0 2-.9 2-2V5c0-1.1-.9-2-2-2zM9 17H7v-7h2v7zm4 0h-2V7h2v10zm4 0h-2v-4h2v4z\"/>\n",
              "    </g>\n",
              "</svg>\n",
              "  </button>\n",
              "\n",
              "<style>\n",
              "  .colab-df-quickchart {\n",
              "      --bg-color: #E8F0FE;\n",
              "      --fill-color: #1967D2;\n",
              "      --hover-bg-color: #E2EBFA;\n",
              "      --hover-fill-color: #174EA6;\n",
              "      --disabled-fill-color: #AAA;\n",
              "      --disabled-bg-color: #DDD;\n",
              "  }\n",
              "\n",
              "  [theme=dark] .colab-df-quickchart {\n",
              "      --bg-color: #3B4455;\n",
              "      --fill-color: #D2E3FC;\n",
              "      --hover-bg-color: #434B5C;\n",
              "      --hover-fill-color: #FFFFFF;\n",
              "      --disabled-bg-color: #3B4455;\n",
              "      --disabled-fill-color: #666;\n",
              "  }\n",
              "\n",
              "  .colab-df-quickchart {\n",
              "    background-color: var(--bg-color);\n",
              "    border: none;\n",
              "    border-radius: 50%;\n",
              "    cursor: pointer;\n",
              "    display: none;\n",
              "    fill: var(--fill-color);\n",
              "    height: 32px;\n",
              "    padding: 0;\n",
              "    width: 32px;\n",
              "  }\n",
              "\n",
              "  .colab-df-quickchart:hover {\n",
              "    background-color: var(--hover-bg-color);\n",
              "    box-shadow: 0 1px 2px rgba(60, 64, 67, 0.3), 0 1px 3px 1px rgba(60, 64, 67, 0.15);\n",
              "    fill: var(--button-hover-fill-color);\n",
              "  }\n",
              "\n",
              "  .colab-df-quickchart-complete:disabled,\n",
              "  .colab-df-quickchart-complete:disabled:hover {\n",
              "    background-color: var(--disabled-bg-color);\n",
              "    fill: var(--disabled-fill-color);\n",
              "    box-shadow: none;\n",
              "  }\n",
              "\n",
              "  .colab-df-spinner {\n",
              "    border: 2px solid var(--fill-color);\n",
              "    border-color: transparent;\n",
              "    border-bottom-color: var(--fill-color);\n",
              "    animation:\n",
              "      spin 1s steps(1) infinite;\n",
              "  }\n",
              "\n",
              "  @keyframes spin {\n",
              "    0% {\n",
              "      border-color: transparent;\n",
              "      border-bottom-color: var(--fill-color);\n",
              "      border-left-color: var(--fill-color);\n",
              "    }\n",
              "    20% {\n",
              "      border-color: transparent;\n",
              "      border-left-color: var(--fill-color);\n",
              "      border-top-color: var(--fill-color);\n",
              "    }\n",
              "    30% {\n",
              "      border-color: transparent;\n",
              "      border-left-color: var(--fill-color);\n",
              "      border-top-color: var(--fill-color);\n",
              "      border-right-color: var(--fill-color);\n",
              "    }\n",
              "    40% {\n",
              "      border-color: transparent;\n",
              "      border-right-color: var(--fill-color);\n",
              "      border-top-color: var(--fill-color);\n",
              "    }\n",
              "    60% {\n",
              "      border-color: transparent;\n",
              "      border-right-color: var(--fill-color);\n",
              "    }\n",
              "    80% {\n",
              "      border-color: transparent;\n",
              "      border-right-color: var(--fill-color);\n",
              "      border-bottom-color: var(--fill-color);\n",
              "    }\n",
              "    90% {\n",
              "      border-color: transparent;\n",
              "      border-bottom-color: var(--fill-color);\n",
              "    }\n",
              "  }\n",
              "</style>\n",
              "\n",
              "  <script>\n",
              "    async function quickchart(key) {\n",
              "      const quickchartButtonEl =\n",
              "        document.querySelector('#' + key + ' button');\n",
              "      quickchartButtonEl.disabled = true;  // To prevent multiple clicks.\n",
              "      quickchartButtonEl.classList.add('colab-df-spinner');\n",
              "      try {\n",
              "        const charts = await google.colab.kernel.invokeFunction(\n",
              "            'suggestCharts', [key], {});\n",
              "      } catch (error) {\n",
              "        console.error('Error during call to suggestCharts:', error);\n",
              "      }\n",
              "      quickchartButtonEl.classList.remove('colab-df-spinner');\n",
              "      quickchartButtonEl.classList.add('colab-df-quickchart-complete');\n",
              "    }\n",
              "    (() => {\n",
              "      let quickchartButtonEl =\n",
              "        document.querySelector('#df-a5239b97-4b20-4b19-adbd-dbf5e75c691e button');\n",
              "      quickchartButtonEl.style.display =\n",
              "        google.colab.kernel.accessAllowed ? 'block' : 'none';\n",
              "    })();\n",
              "  </script>\n",
              "</div>\n",
              "    </div>\n",
              "  </div>\n"
            ]
          },
          "metadata": {},
          "execution_count": 11
        }
      ],
      "source": [
        "# Create a DATAfRAME\n",
        "df = pd.DataFrame(myarray, columns=['Color','Type','Mileage','Origin','Stolen'])\n",
        "df"
      ]
    },
    {
      "cell_type": "code",
      "execution_count": null,
      "id": "22d8bac3",
      "metadata": {
        "id": "22d8bac3"
      },
      "outputs": [],
      "source": [
        "\n",
        "# Type casting\n",
        "df['Color'] =  df['Color'].astype(str)\n",
        "df['Type'] =  df['Type'].astype(str)\n",
        "df['Mileage'] =  df['Mileage'].astype(float)\n",
        "df['Origin'] = df['Origin'].astype(str)\n",
        "df['Stolen'] =  df['Stolen'].astype(str)"
      ]
    },
    {
      "cell_type": "markdown",
      "id": "2d2c563d",
      "metadata": {
        "id": "2d2c563d"
      },
      "source": [
        "# Enter the User Input for prediction"
      ]
    },
    {
      "cell_type": "code",
      "execution_count": null,
      "id": "617485b3",
      "metadata": {
        "colab": {
          "base_uri": "https://localhost:8080/"
        },
        "id": "617485b3",
        "outputId": "b3aba154-a3a7-498d-a618-142a5441813b"
      },
      "outputs": [
        {
          "output_type": "stream",
          "name": "stdout",
          "text": [
            "Enter the input\n"
          ]
        }
      ],
      "source": [
        "print(\"Enter the input\")"
      ]
    },
    {
      "cell_type": "code",
      "execution_count": null,
      "id": "ced8a4f3",
      "metadata": {
        "colab": {
          "base_uri": "https://localhost:8080/"
        },
        "id": "ced8a4f3",
        "outputId": "a3a6db9c-5d91-49e7-afc5-74c179d8e32c"
      },
      "outputs": [
        {
          "name": "stdout",
          "output_type": "stream",
          "text": [
            "Enter the Color :->Yellow\n",
            "Enter the Type of the car :->XUV\n",
            "Enter the mileage :->12.6\n",
            "Enter the origin :->Imported\n"
          ]
        }
      ],
      "source": [
        "# Asking the USER to INPUT values\n",
        "color = input(\"Enter the Color :->\")\n",
        "Type = input(\"Enter the Type of the car :->\")\n",
        "Mileage = float(input(\"Enter the mileage :->\"))\n",
        "Origin = input(\"Enter the origin :->\")"
      ]
    },
    {
      "cell_type": "code",
      "execution_count": null,
      "id": "eb7091d8",
      "metadata": {
        "id": "eb7091d8"
      },
      "outputs": [],
      "source": [
        "# Creating a DICT\n",
        "l = {'Color':color,'Type':Type,'Mileage':Mileage,'Origin':Origin}"
      ]
    },
    {
      "cell_type": "code",
      "execution_count": null,
      "id": "c2d87716",
      "metadata": {
        "colab": {
          "base_uri": "https://localhost:8080/"
        },
        "id": "c2d87716",
        "outputId": "07608c51-ed8a-4bc5-e089-8ab66377606e"
      },
      "outputs": [
        {
          "output_type": "execute_result",
          "data": {
            "text/plain": [
              "True"
            ]
          },
          "metadata": {},
          "execution_count": 19
        }
      ],
      "source": [
        "# Checking if Value id Continuous or not\n",
        "df['Mileage'].dtypes == 'float64'"
      ]
    },
    {
      "cell_type": "markdown",
      "id": "7adee7cf",
      "metadata": {
        "id": "7adee7cf"
      },
      "source": []
    },
    {
      "cell_type": "code",
      "execution_count": null,
      "id": "1ef1d17f",
      "metadata": {
        "id": "1ef1d17f"
      },
      "outputs": [],
      "source": [
        "def probabilistic_classifier(data, cls_var,  l):\n",
        "\n",
        "    classes = data[cls_var].value_counts()\n",
        "\n",
        "    total = data.shape[0]\n",
        "\n",
        "    # WILL GIve the [ 'Yes, 'No']\n",
        "    name = classes.index.tolist()\n",
        "\n",
        "    pred_results = {}\n",
        "\n",
        "\n",
        "#     class_counts = data[cls_var].value_counts()\n",
        "\n",
        "#     classes = pd.DataFrame(class_counts)\n",
        "\n",
        "#     data_wo_cls = data.drop([cls_var], axis=1)\n",
        "\n",
        "\n",
        "    # name is the list ['Yes' , 'No']\n",
        "    for i in name:\n",
        "\n",
        "        count_cls = data[data[cls_var]==i].shape[0] # gives you the class 1 instances\n",
        "\n",
        "\n",
        "        df = data.loc[data[cls_var] == i]\n",
        "\n",
        "        p = count_cls/total\n",
        "\n",
        "\n",
        "\n",
        "        for j in l:\n",
        "\n",
        "\n",
        "\n",
        "            count = df[df[j]==l[j]].shape[0]\n",
        "\n",
        "\n",
        "            if count == 0:\n",
        "                if (df[j].dtypes == 'float64'):\n",
        "                  # For Gaussian\n",
        "                    mn = df[j].mean()\n",
        "                    sd = df[j].std()\n",
        "                    hlf = math.exp(-(((l[j]-mn)**2)/2*(sd**2)))\n",
        "                    fst = 1/(sd*((2*3.14)**0.5))\n",
        "                    p = p * (fst * hlf)\n",
        "                else:\n",
        "                  #For k = 1 LAPLACIAN SMOOTHER\n",
        "                    p = p * ((count+1)/(count_cls+1 * len(name)))\n",
        "            else:\n",
        "\n",
        "                p = p * (count/count_cls)\n",
        "\n",
        "\n",
        "        pred_results.update({i : p})\n",
        "\n",
        "\n",
        "    return pred_results\n",
        "\n",
        "\n",
        "\n",
        "\n",
        "\n",
        "\n",
        "\n",
        "\n",
        "#         if (type(data[i]) == 'float64' or type(data[i]) == 'integer') :\n",
        "#             pass\n",
        "#         else:\n",
        "\n",
        "#             # find the value counts of each feature\n",
        "#             cnt = i+'_cnt'\n",
        "#             cnt = data[i].value_counts()\n",
        "\n",
        "#             name = cnt.index.tolist()\n",
        "#             x = 0\n",
        "\n",
        "#             for j in range(cnt.shape[0]):\n",
        "#                 prob_name = str(name[x]+'_prob')\n",
        "#                 print(prob_name)\n",
        "#                 prob_name  = cnt[j]\n",
        "#                 x += 1\n",
        "#             print(prob_name)"
      ]
    },
    {
      "cell_type": "code",
      "execution_count": null,
      "id": "045e7981",
      "metadata": {
        "id": "045e7981"
      },
      "outputs": [],
      "source": [
        "\n",
        "di = probabilistic_classifier(df, 'Stolen', l)"
      ]
    },
    {
      "cell_type": "markdown",
      "id": "08256b6c",
      "metadata": {
        "id": "08256b6c"
      },
      "source": [
        "#"
      ]
    },
    {
      "cell_type": "code",
      "execution_count": null,
      "id": "7bded72a",
      "metadata": {
        "id": "7bded72a",
        "outputId": "534e4018-20c2-417f-80c6-140877270e60",
        "colab": {
          "base_uri": "https://localhost:8080/"
        }
      },
      "outputs": [
        {
          "output_type": "stream",
          "name": "stdout",
          "text": [
            "{'Yes': 0.04910314593289267, 'No': 0.0005292103393573342}\n"
          ]
        }
      ],
      "source": [
        "print(di)"
      ]
    },
    {
      "cell_type": "code",
      "execution_count": null,
      "id": "bf48247f",
      "metadata": {
        "id": "bf48247f",
        "colab": {
          "base_uri": "https://localhost:8080/"
        },
        "outputId": "6d6c8f21-c160-450d-b00d-81174a135b6d"
      },
      "outputs": [
        {
          "output_type": "stream",
          "name": "stdout",
          "text": [
            "Yes\n"
          ]
        }
      ],
      "source": [
        "if di['Yes'] > di['No']:\n",
        "  print (\"Yes\")\n",
        "else:\n",
        "  print(\"No\")"
      ]
    },
    {
      "cell_type": "markdown",
      "source": [
        "# Using the BUILT-IN Function for NAIVE BAIYE'S Theorem\n"
      ],
      "metadata": {
        "id": "eCFMoiH99EXo"
      },
      "id": "eCFMoiH99EXo"
    },
    {
      "cell_type": "code",
      "source": [
        "import pandas as pd\n",
        "import numpy as np"
      ],
      "metadata": {
        "id": "iDt8LKsL4PxM"
      },
      "id": "iDt8LKsL4PxM",
      "execution_count": null,
      "outputs": []
    },
    {
      "cell_type": "code",
      "source": [
        "df = pd.read_csv(\"/content/Iris.csv\")"
      ],
      "metadata": {
        "id": "8dfb96SH9z-5"
      },
      "id": "8dfb96SH9z-5",
      "execution_count": null,
      "outputs": []
    },
    {
      "cell_type": "code",
      "source": [
        "df.head()"
      ],
      "metadata": {
        "id": "1ZHudfBc96o3"
      },
      "id": "1ZHudfBc96o3",
      "execution_count": null,
      "outputs": []
    },
    {
      "cell_type": "code",
      "source": [
        "df = df.drop('Id',axis = 'columns')\n"
      ],
      "metadata": {
        "id": "AEvs0TNeHRwy"
      },
      "id": "AEvs0TNeHRwy",
      "execution_count": null,
      "outputs": []
    },
    {
      "cell_type": "code",
      "source": [
        "\n",
        "features = df.columns.tolist()\n",
        "target = \"Species\"\n",
        "features.remove(target)\n",
        "features, target"
      ],
      "metadata": {
        "id": "-5kcoK5Z97Ut"
      },
      "id": "-5kcoK5Z97Ut",
      "execution_count": null,
      "outputs": []
    },
    {
      "cell_type": "code",
      "source": [
        "# store the feature matrix (X) and response vector (y)\n",
        "X = np.array(df[features])\n",
        "y = np.array(df[target])"
      ],
      "metadata": {
        "id": "-MrrsmiyGVDL"
      },
      "id": "-MrrsmiyGVDL",
      "execution_count": null,
      "outputs": []
    },
    {
      "cell_type": "code",
      "source": [
        "# splitting X and y into training and testing sets\n",
        "from sklearn.model_selection import train_test_split\n",
        "X_train, X_test, y_train, y_test = train_test_split(X, y, test_size=0.25, random_state=1)"
      ],
      "metadata": {
        "id": "HHWIaPdcGpaK"
      },
      "id": "HHWIaPdcGpaK",
      "execution_count": null,
      "outputs": []
    },
    {
      "cell_type": "code",
      "source": [
        "# training the model on training set\n",
        "from sklearn.naive_bayes import GaussianNB\n",
        "Gmodel = GaussianNB()\n",
        "Gmodel.fit(X_train, y_train)"
      ],
      "metadata": {
        "id": "a3HOwxS1G0Mj"
      },
      "id": "a3HOwxS1G0Mj",
      "execution_count": null,
      "outputs": []
    },
    {
      "cell_type": "code",
      "source": [
        "# making predictions on the testing set\n",
        "y_pred = Gmodel.predict(X_test)"
      ],
      "metadata": {
        "id": "wRYYE7nXG5Pv"
      },
      "id": "wRYYE7nXG5Pv",
      "execution_count": null,
      "outputs": []
    },
    {
      "cell_type": "code",
      "source": [
        "# comparing actual response values (y_test) with predicted response values (y_pred)\n",
        "from sklearn import metrics\n",
        "print(\"Gaussian Naive Bayes model accuracy(in %):\", metrics.accuracy_score(y_test, y_pred)*100)"
      ],
      "metadata": {
        "id": "nW-n-cgBG-us"
      },
      "id": "nW-n-cgBG-us",
      "execution_count": null,
      "outputs": []
    },
    {
      "cell_type": "code",
      "source": [
        "# To predict the Final Result.\n",
        "Gmodel.predict([[2.4, 3.3,5.2,2.3]])"
      ],
      "metadata": {
        "id": "ZqN6XyS2HBRK"
      },
      "id": "ZqN6XyS2HBRK",
      "execution_count": null,
      "outputs": []
    },
    {
      "cell_type": "code",
      "source": [],
      "metadata": {
        "id": "u-G7zXgxHDo9"
      },
      "id": "u-G7zXgxHDo9",
      "execution_count": null,
      "outputs": []
    }
  ],
  "metadata": {
    "kernelspec": {
      "display_name": "Python 3 (ipykernel)",
      "language": "python",
      "name": "python3"
    },
    "language_info": {
      "codemirror_mode": {
        "name": "ipython",
        "version": 3
      },
      "file_extension": ".py",
      "mimetype": "text/x-python",
      "name": "python",
      "nbconvert_exporter": "python",
      "pygments_lexer": "ipython3",
      "version": "3.11.4"
    },
    "colab": {
      "provenance": []
    }
  },
  "nbformat": 4,
  "nbformat_minor": 5
}